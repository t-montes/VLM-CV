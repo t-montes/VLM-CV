{
 "cells": [
  {
   "cell_type": "code",
   "execution_count": null,
   "metadata": {},
   "outputs": [],
   "source": [
    "from vlm_cv import Agent\n",
    "\n",
    "agent = Agent(\n",
    "    gemini_api_key='your_gemini_api_key', \n",
    "    hf_api_key='your_hf_api_key', \n",
    "    verbose='loud'\n",
    ")\n",
    "\n",
    "# optional configuration\n",
    "agent.max_tokens = 300\n",
    "agent.temperature = 0\n",
    "agent.model_timeout = 20000"
   ]
  },
  {
   "cell_type": "code",
   "execution_count": null,
   "metadata": {},
   "outputs": [],
   "source": [
    "video = \"./inputs/video_dog.mp4\"\n",
    "query = \"What's close to the dog?\"\n",
    "\n",
    "response, image = agent.call_agent(video, query)\n",
    "\n",
    "print(\"Response:\", response)\n",
    "image"
   ]
  }
 ],
 "metadata": {
  "kernelspec": {
   "display_name": "Python 3",
   "language": "python",
   "name": "python3"
  },
  "language_info": {
   "name": "python",
   "version": "3.12.1"
  }
 },
 "nbformat": 4,
 "nbformat_minor": 2
}
